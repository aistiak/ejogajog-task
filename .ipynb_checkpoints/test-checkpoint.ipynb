{
 "cells": [
  {
   "cell_type": "code",
   "execution_count": 48,
   "metadata": {},
   "outputs": [],
   "source": [
    "import requests \n",
    "import validators\n",
    "from bs4 import BeautifulSoup "
   ]
  },
  {
   "cell_type": "code",
   "execution_count": 49,
   "metadata": {},
   "outputs": [],
   "source": [
    "main_dict = {} #dict\n",
    "main_hash = []\n",
    "dir_list   =  [ ] \n",
    "URL = \"http://www.prothomalo.com\"\n",
    "must_contain = \"www.prothomalo.com\""
   ]
  },
  {
   "cell_type": "code",
   "execution_count": 57,
   "metadata": {},
   "outputs": [],
   "source": [
    "def get_news(url,depth):\n",
    "    print(\"recursion depth\",depth)\n",
    "    # check if url is valid and contains  prthom alos url if not return \n",
    "    if validators.url(url) == True and \"www.prothomalo.com\" in url :\n",
    "        pass \n",
    "    elif  validators.url(URL+url) == True:\n",
    "        url = URL+url\n",
    "        pass  \n",
    "    else :\n",
    "        print(\"abort dir url...\")\n",
    "        return \n",
    "    \n",
    "    # cheack url alreay exista in hash_list \n",
    "    if url in main_hash :\n",
    "        return \n",
    "    else :\n",
    "        h = str(hash(url))\n",
    "        main_hash.append(h)\n",
    "    try :\n",
    "        response = requests.get(url = url) \n",
    "    except :\n",
    "        return \n",
    "    data = BeautifulSoup(response.text)\n",
    "    anchors = data.findAll('a',href=True)\n",
    "    for anchor in anchors :\n",
    "        if \"class\" in anchor.attrs:\n",
    "            if \"link_overlay\" in anchor[\"class\"]:\n",
    "                t_url = URL + anchor.attrs[\"href\"] \n",
    "                h = str(hash(t_url))\n",
    "                main_dict[h] = t_url\n",
    "                if h not in main_hash:\n",
    "                    main_hash.append(h) \n",
    "        else :\n",
    "            # if dir url recursive call \n",
    "            h = str(hash(anchor[\"href\"]))\n",
    "            if h in main_hash:\n",
    "                pass\n",
    "            else :\n",
    "                main_hash.append(h)\n",
    "                print(anchor[\"href\"])\n",
    "                get_news(anchor[\"href\"],depth+1)\n",
    "            \n",
    "    return \"\" "
   ]
  },
  {
   "cell_type": "code",
   "execution_count": 51,
   "metadata": {},
   "outputs": [
    {
     "data": {
      "text/plain": [
       "0"
      ]
     },
     "execution_count": 51,
     "metadata": {},
     "output_type": "execute_result"
    }
   ],
   "source": [
    "len(main_dict)"
   ]
  },
  {
   "cell_type": "code",
   "execution_count": 58,
   "metadata": {},
   "outputs": [
    {
     "name": "stdout",
     "output_type": "stream",
     "text": [
      "recursion depth 0\n"
     ]
    },
    {
     "data": {
      "text/plain": [
       "''"
      ]
     },
     "execution_count": 58,
     "metadata": {},
     "output_type": "execute_result"
    }
   ],
   "source": [
    "get_news(URL,0)"
   ]
  },
  {
   "cell_type": "code",
   "execution_count": 53,
   "metadata": {},
   "outputs": [
    {
     "data": {
      "text/plain": [
       "'http://www.prothomalo.com/bondhushava/article/1640474/%E0%A6%AC%E0%A6%A8%E0%A7%8D%E0%A6%A7%E0%A7%81%E0%A6%B8%E0%A6%AD%E0%A6%BE%E0%A6%B0-%E0%A6%AC%E0%A7%88%E0%A6%A0%E0%A6%95'"
      ]
     },
     "execution_count": 53,
     "metadata": {},
     "output_type": "execute_result"
    }
   ],
   "source": [
    "main_dict[\"-1219988421276392229\"]"
   ]
  },
  {
   "cell_type": "code",
   "execution_count": 54,
   "metadata": {},
   "outputs": [
    {
     "data": {
      "text/plain": [
       "3334"
      ]
     },
     "execution_count": 54,
     "metadata": {},
     "output_type": "execute_result"
    }
   ],
   "source": [
    "len(main_hash)"
   ]
  },
  {
   "cell_type": "code",
   "execution_count": 55,
   "metadata": {},
   "outputs": [
    {
     "data": {
      "text/plain": [
       "2403"
      ]
     },
     "execution_count": 55,
     "metadata": {},
     "output_type": "execute_result"
    }
   ],
   "source": [
    "len(main_dict)"
   ]
  },
  {
   "cell_type": "code",
   "execution_count": 56,
   "metadata": {},
   "outputs": [
    {
     "data": {
      "text/plain": [
       "3334"
      ]
     },
     "execution_count": 56,
     "metadata": {},
     "output_type": "execute_result"
    }
   ],
   "source": [
    "len(main_hash)"
   ]
  },
  {
   "cell_type": "code",
   "execution_count": 117,
   "metadata": {},
   "outputs": [
    {
     "data": {
      "text/plain": [
       "''"
      ]
     },
     "execution_count": 117,
     "metadata": {},
     "output_type": "execute_result"
    }
   ],
   "source": []
  },
  {
   "cell_type": "code",
   "execution_count": 21,
   "metadata": {},
   "outputs": [
    {
     "data": {
      "text/plain": [
       "['http://www.prothomalo.com/bondhushava/article/1640438/%E0%A6%B8%E0%A6%BE%E0%A6%A4%E0%A6%95%E0%A7%8D%E0%A6%B7%E0%A7%80%E0%A6%B0%E0%A6%BE-%E0%A6%AC%E0%A6%A8%E0%A7%8D%E0%A6%A7%E0%A7%81%E0%A6%B8%E0%A6%AD%E0%A6%BE%E0%A6%B0-%E0%A6%AE%E0%A6%BE%E0%A6%A8%E0%A6%AC%E0%A6%AC%E0%A6%A8%E0%A7%8D%E0%A6%A7%E0%A6%A8',\n",
       " 'http://www.prothomalo.com/bondhushava/article/1640257/%E0%A6%AD%E0%A6%BE%E0%A6%B2%E0%A7%8B%E0%A6%AC%E0%A6%BE%E0%A6%B8%E0%A6%BE-%E0%A6%A6%E0%A6%BF%E0%A6%AC%E0%A6%B8-%E0%A6%95%E0%A6%BE%E0%A6%9F%E0%A6%B2-%E2%80%98%E0%A6%86%E0%A6%AA%E0%A6%A8-%E0%A6%A8%E0%A6%BF%E0%A6%AC%E0%A6%BE%E0%A6%B8%E2%80%99-%E0%A6%AC%E0%A7%83%E0%A6%A6%E0%A7%8D%E0%A6%A7%E0%A6%BE%E0%A6%B6%E0%A7%8D%E0%A6%B0%E0%A6%AE%E0%A7%87',\n",
       " 'http://www.prothomalo.com/bondhushava/article/1640440/%E0%A6%A8%E0%A6%BE%E0%A6%B0%E0%A6%BE%E0%A7%9F%E0%A6%A3%E0%A6%97%E0%A6%9E%E0%A7%8D%E0%A6%9C-%E0%A6%AC%E0%A6%A8%E0%A7%8D%E0%A6%A7%E0%A7%81%E0%A6%B8%E0%A6%AD%E0%A6%BE%E0%A6%B0-%E0%A6%AC%E0%A6%B8%E0%A6%A8%E0%A7%8D%E0%A6%A4%E0%A6%AC%E0%A6%B0%E0%A6%A3',\n",
       " 'http://www.prothomalo.com/bondhushava/article/1640412/%E0%A6%AE%E0%A6%BE%E0%A6%A8%E0%A6%AC%E0%A6%BF%E0%A6%95-%E0%A6%AE%E0%A6%BE%E0%A6%A8%E0%A7%81%E0%A6%B7-%E0%A6%B9%E0%A6%93%E0%A7%9F%E0%A6%BE%E0%A6%B0-%E0%A6%86%E0%A6%B9%E0%A7%8D%E0%A6%AC%E0%A6%BE%E0%A6%A8',\n",
       " 'http://www.prothomalo.com/bondhushava/article/1640413/%E0%A6%B8%E0%A7%81%E0%A6%A8%E0%A7%8D%E0%A6%A6%E0%A6%B0-%E0%A6%A6%E0%A7%87%E0%A6%B6-%E0%A6%97%E0%A7%9C%E0%A6%BE%E0%A6%B0-%E0%A6%B6%E0%A6%AA%E0%A6%A5',\n",
       " 'http://www.prothomalo.com/bondhushava/article/1640447/%E0%A6%A4%E0%A6%BE%E0%A6%81%E0%A6%AC%E0%A7%81-%E0%A6%A8%E0%A6%AE%E0%A7%8D%E0%A6%AC%E0%A6%B0-%E0%A7%AE%E0%A7%AD',\n",
       " 'http://www.prothomalo.com/bondhushava/article/1639916/%E0%A6%93-%E0%A6%AC%E0%A6%A8%E0%A7%8D%E0%A6%A7%E0%A7%81-%E0%A6%86%E0%A6%AE%E0%A6%BE%E0%A6%B0',\n",
       " 'http://www.prothomalo.com/bondhushava/article/1639915/%E0%A6%AF%E0%A7%87%E0%A6%A8-%E0%A6%8F%E0%A6%95-%E0%A6%9C%E0%A6%BE%E0%A6%A6%E0%A7%81%E0%A6%B0-%E0%A6%A6%E0%A7%81%E0%A6%A8%E0%A6%BF%E0%A7%9F%E0%A6%BE',\n",
       " 'http://www.prothomalo.com/bondhushava/article/1639550/%E0%A6%A8%E0%A7%8B%E0%A6%9F%E0%A7%81-%E0%A6%9B%E0%A7%8B%E0%A6%9F-%E0%A6%9B%E0%A7%87%E0%A6%B2%E0%A7%87%E0%A6%B0-%E0%A6%AC%E0%A7%9C-%E0%A6%AE%E0%A7%81%E0%A6%95%E0%A7%8D%E0%A6%A4%E0%A6%BF%E0%A6%AF%E0%A7%8B%E0%A6%A6%E0%A7%8D%E0%A6%A7%E0%A6%BE-%E0%A6%B9%E0%A6%93%E0%A7%9F%E0%A6%BE%E0%A6%B0-%E0%A6%97%E0%A6%B2%E0%A7%8D%E0%A6%AA']"
      ]
     },
     "execution_count": 21,
     "metadata": {},
     "output_type": "execute_result"
    }
   ],
   "source": [
    "list(main_dict.values())[1:10]"
   ]
  },
  {
   "cell_type": "code",
   "execution_count": 29,
   "metadata": {},
   "outputs": [
    {
     "name": "stdout",
     "output_type": "stream",
     "text": [
      "2303 0\n"
     ]
    }
   ],
   "source": []
  },
  {
   "cell_type": "code",
   "execution_count": 45,
   "metadata": {},
   "outputs": [],
   "source": [
    "t = hash(\"https://www.prothomalo.com/topic/%E0%A6%B8%E0%A6%B0%E0%A6%95%E0%A6%BE%E0%A6%B0\")"
   ]
  },
  {
   "cell_type": "code",
   "execution_count": 47,
   "metadata": {},
   "outputs": [
    {
     "data": {
      "text/plain": [
       "True"
      ]
     },
     "execution_count": 47,
     "metadata": {},
     "output_type": "execute_result"
    }
   ],
   "source": [
    "\"if\" in \"arif\""
   ]
  },
  {
   "cell_type": "code",
   "execution_count": null,
   "metadata": {},
   "outputs": [],
   "source": []
  }
 ],
 "metadata": {
  "kernelspec": {
   "display_name": "Python 3",
   "language": "python",
   "name": "python3"
  },
  "language_info": {
   "codemirror_mode": {
    "name": "ipython",
    "version": 3
   },
   "file_extension": ".py",
   "mimetype": "text/x-python",
   "name": "python",
   "nbconvert_exporter": "python",
   "pygments_lexer": "ipython3",
   "version": "3.6.0"
  }
 },
 "nbformat": 4,
 "nbformat_minor": 2
}
