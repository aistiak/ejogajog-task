{
 "cells": [
  {
   "cell_type": "code",
   "execution_count": 156,
   "metadata": {},
   "outputs": [],
   "source": [
    "import requests \n",
    "import validators\n",
    "from bs4 import BeautifulSoup "
   ]
  },
  {
   "cell_type": "code",
   "execution_count": 157,
   "metadata": {},
   "outputs": [],
   "source": [
    "main_dict = {} #dict\n",
    "main_hash = []\n",
    "dir_list   =  [ ] \n",
    "URL = \"http://www.prothomalo.com\""
   ]
  },
  {
   "cell_type": "code",
   "execution_count": 158,
   "metadata": {},
   "outputs": [],
   "source": [
    "def get_news(url,depth):\n",
    "    print(\"recursion depth\",depth)\n",
    "    # check if url is valid and contains  prthom alos url if not return \n",
    "    if validators.url(url) == True and \"www.prothomalo.com\" in url :\n",
    "        pass \n",
    "    elif  validators.url(URL+url) == True:\n",
    "        url = URL+url\n",
    "        pass  \n",
    "    else :\n",
    "        return \n",
    "    \n",
    "    # cheack url alreay exista in hash_list \n",
    "    if url in main_hash :\n",
    "        return \n",
    "    else :\n",
    "        h = str(hash(url))\n",
    "        main_hash.append(h)\n",
    "    try :\n",
    "        response = requests.get(url = url) \n",
    "    except :\n",
    "        return \n",
    "    data = BeautifulSoup(response.text)\n",
    "    anchors = data.findAll('a',href=True)\n",
    "    for anchor in anchors :\n",
    "        if \"class\" in anchor.attrs:\n",
    "            if \"link_overlay\" in anchor[\"class\"]:\n",
    "                t_url = URL + anchor.attrs[\"href\"] \n",
    "                h = str(hash(t_url))\n",
    "                main_dict[h] = t_url\n",
    "                if h not in main_hash:\n",
    "                    main_hash.append(h) \n",
    "        else :\n",
    "            # if dir url recursive call \n",
    "            h = str(hash(anchor[\"href\"]))\n",
    "            if h in main_hash:\n",
    "                pass\n",
    "            else :\n",
    "                main_hash.append(h)\n",
    "                print(anchor[\"href\"])\n",
    "                get_news(anchor[\"href\"],depth+1)\n",
    "            \n",
    "    return \"\" "
   ]
  },
  {
   "cell_type": "code",
   "execution_count": 159,
   "metadata": {},
   "outputs": [
    {
     "data": {
      "text/plain": [
       "0"
      ]
     },
     "execution_count": 159,
     "metadata": {},
     "output_type": "execute_result"
    }
   ],
   "source": [
    "len(main_dict)"
   ]
  },
  {
   "cell_type": "code",
   "execution_count": null,
   "metadata": {},
   "outputs": [],
   "source": [
    "# get_news(URL,0)"
   ]
  },
  {
   "cell_type": "code",
   "execution_count": 98,
   "metadata": {},
   "outputs": [
    {
     "data": {
      "text/plain": [
       "'http://www.prothomalo.com/education/article/1640843/%E0%A6%B8%E0%A6%AE%E0%A6%A8%E0%A7%8D%E0%A6%AC%E0%A6%BF%E0%A6%A4-%E0%A6%AD%E0%A6%B0%E0%A7%8D%E0%A6%A4%E0%A6%BF-%E0%A6%AA%E0%A6%B0%E0%A7%80%E0%A6%95%E0%A7%8D%E0%A6%B7%E0%A6%BE%E0%A7%9F-%E0%A6%AC%E0%A7%81%E0%A7%9F%E0%A7%87%E0%A6%9F%E0%A7%87%E0%A6%B0-%E0%A6%AA%E0%A6%B0-%E0%A6%9A%E0%A6%9F%E0%A7%8D%E0%A6%9F%E0%A6%97%E0%A7%8D%E0%A6%B0%E0%A6%BE%E0%A6%AE'"
      ]
     },
     "execution_count": 98,
     "metadata": {},
     "output_type": "execute_result"
    }
   ],
   "source": [
    "main_dict['-1212187946366078701']"
   ]
  },
  {
   "cell_type": "code",
   "execution_count": 154,
   "metadata": {},
   "outputs": [
    {
     "data": {
      "text/plain": [
       "1285"
      ]
     },
     "execution_count": 154,
     "metadata": {},
     "output_type": "execute_result"
    }
   ],
   "source": [
    "len(main_hash)"
   ]
  },
  {
   "cell_type": "code",
   "execution_count": 129,
   "metadata": {},
   "outputs": [
    {
     "data": {
      "text/plain": [
       "{}"
      ]
     },
     "execution_count": 129,
     "metadata": {},
     "output_type": "execute_result"
    }
   ],
   "source": [
    "main_dict"
   ]
  },
  {
   "cell_type": "code",
   "execution_count": 116,
   "metadata": {},
   "outputs": [
    {
     "data": {
      "text/plain": [
       "69"
      ]
     },
     "execution_count": 116,
     "metadata": {},
     "output_type": "execute_result"
    }
   ],
   "source": [
    "len(main_hash)"
   ]
  },
  {
   "cell_type": "code",
   "execution_count": 117,
   "metadata": {},
   "outputs": [
    {
     "data": {
      "text/plain": [
       "''"
      ]
     },
     "execution_count": 117,
     "metadata": {},
     "output_type": "execute_result"
    }
   ],
   "source": [
    "get_news(\"/\")"
   ]
  },
  {
   "cell_type": "code",
   "execution_count": 118,
   "metadata": {},
   "outputs": [
    {
     "data": {
      "text/plain": [
       "['-1212187946366078701',\n",
       " '2765211693120495837',\n",
       " '-2810579979758280190',\n",
       " '3755843395123616796',\n",
       " '4385342581039978179',\n",
       " '2894549947643794852',\n",
       " '-2019399987223332868',\n",
       " '785469769090861464',\n",
       " '549044885744637409',\n",
       " '7243572776214518188',\n",
       " '-970240764880260153',\n",
       " '-2711763021237918712',\n",
       " '4758558396513495434',\n",
       " '-1845013662978443801',\n",
       " '-6896417064124480098',\n",
       " '-4205057195741109020',\n",
       " '-63722280544059069',\n",
       " '6548484095336510582',\n",
       " '2103247125968689665',\n",
       " '-4912938198037886399',\n",
       " '-479960117871654587',\n",
       " '5911577209172506565',\n",
       " '6194251196982845521',\n",
       " '-7218246627313842620',\n",
       " '-5218445112311231873',\n",
       " '5455202443017276869',\n",
       " '-962732817000468449',\n",
       " '-288589690475392039',\n",
       " '-8251102868243117131',\n",
       " '-9018094401695931790',\n",
       " '2234890168145057532',\n",
       " '-404464431817540697',\n",
       " '6297860876122443477',\n",
       " '-1737860499335084479',\n",
       " '-3168228872164305709',\n",
       " '2728200029866923068',\n",
       " '1272375746035625082',\n",
       " '-4103259119407536434',\n",
       " '859258459029547509',\n",
       " '-6236870184668476662',\n",
       " '-5621141803041476099',\n",
       " '5283689365590790077',\n",
       " '4558641796894522259',\n",
       " '9036951738248156152',\n",
       " '3434791118187857082',\n",
       " '-8797101757420192840',\n",
       " '7811671798151215279',\n",
       " '-1549804393235115902',\n",
       " '3475700289926391195',\n",
       " '-3948038919762235676',\n",
       " '-5345226422911011792',\n",
       " '-8746802484872852038',\n",
       " '5159269061185055919',\n",
       " '629939192713392151',\n",
       " '3066146780056828718',\n",
       " '-6316555967813857816',\n",
       " '-2056820282851904662',\n",
       " '4082700878719213938',\n",
       " '-1707730446553615488',\n",
       " '1638979066433120061',\n",
       " '1327988176090914239',\n",
       " '3469618487954023571',\n",
       " '5525000392519997436',\n",
       " '-3101048414918596794',\n",
       " '5074054528869135262',\n",
       " '-8385992473005455204',\n",
       " '-5551151606639062817',\n",
       " '7288686986052703793',\n",
       " '2746625198773860585',\n",
       " '8960546431163114017']"
      ]
     },
     "execution_count": 118,
     "metadata": {},
     "output_type": "execute_result"
    }
   ],
   "source": [
    "main_hash"
   ]
  },
  {
   "cell_type": "code",
   "execution_count": null,
   "metadata": {},
   "outputs": [],
   "source": []
  }
 ],
 "metadata": {
  "kernelspec": {
   "display_name": "Python 3",
   "language": "python",
   "name": "python3"
  },
  "language_info": {
   "codemirror_mode": {
    "name": "ipython",
    "version": 3
   },
   "file_extension": ".py",
   "mimetype": "text/x-python",
   "name": "python",
   "nbconvert_exporter": "python",
   "pygments_lexer": "ipython3",
   "version": "3.6.0"
  }
 },
 "nbformat": 4,
 "nbformat_minor": 2
}
